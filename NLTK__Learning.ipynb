{
 "cells": [
  {
   "cell_type": "code",
   "execution_count": 1,
   "id": "e2426ebc",
   "metadata": {},
   "outputs": [],
   "source": [
    "# 先用pip在终端安装nltk再在python里调用\n",
    "import nltk"
   ]
  },
  {
   "cell_type": "code",
   "execution_count": 2,
   "id": "d0e4b426",
   "metadata": {
    "scrolled": true
   },
   "outputs": [
    {
     "name": "stdout",
     "output_type": "stream",
     "text": [
      "showing info https://raw.githubusercontent.com/nltk/nltk_data/gh-pages/index.xml\n"
     ]
    },
    {
     "data": {
      "text/plain": [
       "True"
      ]
     },
     "execution_count": 2,
     "metadata": {},
     "output_type": "execute_result"
    }
   ],
   "source": [
    "# 下载语料库等文件\n",
    "nltk.download()"
   ]
  },
  {
   "cell_type": "code",
   "execution_count": 7,
   "id": "0b539b1f",
   "metadata": {
    "scrolled": true
   },
   "outputs": [
    {
     "data": {
      "text/plain": [
       "57340"
      ]
     },
     "execution_count": 7,
     "metadata": {},
     "output_type": "execute_result"
    }
   ],
   "source": [
    "# 加载内置语料库跑测试用例，这里用的最常见的Brown\n",
    "from nltk.corpus import brown\n",
    "# 看看这个语料库的信息\n",
    "# 类别\n",
    "brown.categories()"
   ]
  },
  {
   "cell_type": "code",
   "execution_count": 8,
   "id": "c745d4b2",
   "metadata": {
    "scrolled": true
   },
   "outputs": [
    {
     "data": {
      "text/plain": [
       "1161192"
      ]
     },
     "execution_count": 8,
     "metadata": {},
     "output_type": "execute_result"
    }
   ],
   "source": [
    "# 单词数\n",
    "len(brown.words())"
   ]
  },
  {
   "cell_type": "code",
   "execution_count": 9,
   "id": "ff25d73a",
   "metadata": {
    "scrolled": true
   },
   "outputs": [
    {
     "data": {
      "text/plain": [
       "57340"
      ]
     },
     "execution_count": 9,
     "metadata": {},
     "output_type": "execute_result"
    }
   ],
   "source": [
    "# 句子数\n",
    "len(brown.sents())"
   ]
  },
  {
   "cell_type": "code",
   "execution_count": 1,
   "id": "2eec8422",
   "metadata": {},
   "outputs": [
    {
     "name": "stdout",
     "output_type": "stream",
     "text": [
      "['Man', '!', 'Guys', ',', 'you', 'know', ',', 'I', 'ca', \"n't\", 'believe', 'how', 'fast', '20', 'years', 'went', 'by', '.', 'This', 'is']\n"
     ]
    }
   ],
   "source": [
    "# 分词功能（只支持英文等18种语言，不包括中文）\n",
    "from nltk.tokenize import word_tokenize \n",
    "from nltk.text import Text\n",
    "test_str = \"Man! Guys, you know, I can't believe how fast 20 years went by. This is crazy. This is absolutely crazy. And to be standing here at center court with you guys, my teammates behind me and appreciating all this, the journey that we've been on we've been through our ups and been through our downs, and I think the most important part is that we all stayed together throughout.\"\n",
    "tokens = word_tokenize(test_str)\n",
    "print(tokens[:20])"
   ]
  },
  {
   "cell_type": "code",
   "execution_count": 3,
   "id": "e3c4a611",
   "metadata": {},
   "outputs": [
    {
     "data": {
      "text/plain": [
       "1"
      ]
     },
     "execution_count": 3,
     "metadata": {},
     "output_type": "execute_result"
    }
   ],
   "source": [
    "# 查看对应单词的位置和个数\n",
    "t = Text(tokens)\n",
    "# 个数\n",
    "t.count('believe')"
   ]
  },
  {
   "cell_type": "code",
   "execution_count": 5,
   "id": "cc11d4b3",
   "metadata": {},
   "outputs": [
    {
     "data": {
      "text/plain": [
       "10"
      ]
     },
     "execution_count": 5,
     "metadata": {},
     "output_type": "execute_result"
    }
   ],
   "source": [
    "# 位置\n",
    "t.index('believe')"
   ]
  },
  {
   "cell_type": "code",
   "execution_count": 7,
   "id": "7cd26248",
   "metadata": {},
   "outputs": [
    {
     "data": {
      "image/png": "[encoded data removed]",
      "text/plain": [
       "<Figure size 640x480 with 1 Axes>"
      ]
     },
     "metadata": {},
     "output_type": "display_data"
    },
    {
     "data": {
      "text/plain": [
       "<AxesSubplot: xlabel='Samples', ylabel='Counts'>"
      ]
     },
     "execution_count": 7,
     "metadata": {},
     "output_type": "execute_result"
    }
   ],
   "source": [
    "# 还可以画词频统计图 但需要额外安装matplotlib库\n",
    "t.plot(10)"
   ]
  },
  {
   "cell_type": "code",
   "execution_count": 12,
   "id": "e639fc22",
   "metadata": {},
   "outputs": [
    {
     "data": {
      "text/plain": [
       "\"i me my myself we our ours ourselves you you're you've you'll you'd your yours yourself yourselves he him his himself she she's her hers herself it it's its itself they them their theirs themselves what which who whom this that that'll these those am is are was were be been being have has had having do does did doing a an the and but if or because as until while of at by for with about against between into through during before after above below to from up down in out on off over under again further then once here there when where why how all any both each few more most other some such no nor not only own same so than too very s t can will just don don't should should've now d ll m o re ve y ain aren aren't couldn couldn't didn didn't doesn doesn't hadn hadn't hasn hasn't haven haven't isn isn't ma mightn mightn't mustn mustn't needn needn't shan shan't shouldn shouldn't wasn wasn't weren weren't won won't wouldn wouldn't \""
      ]
     },
     "execution_count": 12,
     "metadata": {},
     "output_type": "execute_result"
    }
   ],
   "source": [
    "# 停用词\n",
    "from nltk.corpus import stopwords\n",
    "stopwords.fileids()\n",
    "stopwords.raw('english').replace('\\n', ' ')"
   ]
  },
  {
   "cell_type": "code",
   "execution_count": 18,
   "id": "0a4ed0af",
   "metadata": {},
   "outputs": [
    {
     "name": "stdout",
     "output_type": "stream",
     "text": [
      "{'you', 'through', 'by', 'with', 'at', 'i', 'how', 'this', 'our', 'most', 'be', 'my', 'all', 'and', 'to', 'here', 'that', 'the', 'me', 'we', 'is', 'on', 'been'}\n"
     ]
    }
   ],
   "source": [
    "# 停用词的应用\n",
    "test_words = [word.lower() for word in tokens]\n",
    "test_words_set = set(test_words)\n",
    "print(test_words_set.intersection(set(stopwords.words('english'))))"
   ]
  },
  {
   "cell_type": "code",
   "execution_count": 14,
   "id": "ca6c9544",
   "metadata": {},
   "outputs": [
    {
     "name": "stdout",
     "output_type": "stream",
     "text": [
      "['together', 'standing', 'stayed', 'part', '!', 'center', 'absolutely', 'guys', \"'ve\", \"n't\", 'important', 'ca', 'know', 'court', 'crazy', 'years', 'believe', 'throughout', 'teammates', '.', 'appreciating', 'ups', 'think', '20', 'went', 'fast', ',', 'journey', 'downs', 'behind', 'man']\n"
     ]
    }
   ],
   "source": [
    "# 反向过滤非停用词\n",
    "filtered_list = [word for word in test_words_set if(word not in stopwords.words('english'))]\n",
    "print(filtered_list)"
   ]
  },
  {
   "cell_type": "code",
   "execution_count": 17,
   "id": "bda7208a",
   "metadata": {},
   "outputs": [
    {
     "name": "stdout",
     "output_type": "stream",
     "text": [
      "[('Man', 'NN'), ('!', '.'), ('Guys', 'NNP'), (',', ','), ('you', 'PRP'), ('know', 'VBP'), (',', ','), ('I', 'PRP'), ('ca', 'MD'), (\"n't\", 'RB'), ('believe', 'VB'), ('how', 'WRB'), ('fast', 'JJ'), ('20', 'CD'), ('years', 'NNS'), ('went', 'VBD'), ('by', 'IN'), ('.', '.'), ('This', 'DT'), ('is', 'VBZ'), ('crazy', 'JJ'), ('.', '.'), ('This', 'DT'), ('is', 'VBZ'), ('absolutely', 'RB'), ('crazy', 'JJ'), ('.', '.'), ('And', 'CC'), ('to', 'TO'), ('be', 'VB'), ('standing', 'VBG'), ('here', 'RB'), ('at', 'IN'), ('center', 'JJ'), ('court', 'NN'), ('with', 'IN'), ('you', 'PRP'), ('guys', 'VBP'), (',', ','), ('my', 'PRP$'), ('teammates', 'NNS'), ('behind', 'IN'), ('me', 'PRP'), ('and', 'CC'), ('appreciating', 'VBG'), ('all', 'PDT'), ('this', 'DT'), (',', ','), ('the', 'DT'), ('journey', 'NN'), ('that', 'IN'), ('we', 'PRP'), (\"'ve\", 'VBP'), ('been', 'VBN'), ('on', 'IN'), ('we', 'PRP'), (\"'ve\", 'VBP'), ('been', 'VBN'), ('through', 'IN'), ('our', 'PRP$'), ('ups', 'NNS'), ('and', 'CC'), ('been', 'VBN'), ('through', 'IN'), ('our', 'PRP$'), ('downs', 'NNS'), (',', ','), ('and', 'CC'), ('I', 'PRP'), ('think', 'VBP'), ('the', 'DT'), ('most', 'RBS'), ('important', 'JJ'), ('part', 'NN'), ('is', 'VBZ'), ('that', 'IN'), ('we', 'PRP'), ('all', 'DT'), ('stayed', 'VBD'), ('together', 'RB'), ('throughout', 'IN'), ('.', '.')]\n"
     ]
    }
   ],
   "source": [
    "# 词性标注\n",
    "from nltk import pos_tag\n",
    "tags_list = pos_tag(tokens)\n",
    "print(tags)"
   ]
  },
  {
   "cell_type": "code",
   "execution_count": null,
   "id": "c42dc7dd",
   "metadata": {},
   "outputs": [],
   "source": []
  }
 ],
 "metadata": {
  "kernelspec": {
   "display_name": "Python 3 (ipykernel)",
   "language": "python",
   "name": "python3"
  },
  "language_info": {
   "codemirror_mode": {
    "name": "ipython",
    "version": 3
   },
   "file_extension": ".py",
   "mimetype": "text/x-python",
   "name": "python",
   "nbconvert_exporter": "python",
   "pygments_lexer": "ipython3",
   "version": "3.9.0"
  }
 },
 "nbformat": 4,
 "nbformat_minor": 5
}
